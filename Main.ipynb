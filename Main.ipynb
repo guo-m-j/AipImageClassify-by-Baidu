{
 "cells": [
  {
   "cell_type": "code",
   "execution_count": 7,
   "metadata": {},
   "outputs": [
    {
     "name": "stdout",
     "output_type": "stream",
     "text": [
      "请输入要识别的文件路径F:\\原电脑E盘文件\\2018.9广州\\DSC_5560.JPG\n",
      "识别可能性： 82.7025 %\n",
      "识别结果： 饮料/饮品\n"
     ]
    }
   ],
   "source": [
    "from aip import AipImageClassify\n",
    "\n",
    "\"\"\" 你的 APPID AK SK \"\"\"\n",
    "APP_ID = 'your APP_ID'\n",
    "API_KEY = 'your API_KEY'\n",
    "SECRET_KEY = 'your SECRET_KEY",
    "\n",
    "\n",
    "def Distinguish():\n",
    "    s = input(\"请输入要识别的文件路径\")\n",
    "    if s == \"\":\n",
    "        print('提示', '要识别的内容不能为空')\n",
    "    else:\n",
    "        client = AipImageClassify(APP_ID,API_KEY, SECRET_KEY)  # 改\n",
    "        with open(s,'rb') as e:\n",
    "            f = e.read()\n",
    "        cc = client.advancedGeneral(f)  # 发送给百度的API\n",
    "        if 'result' in cc:\n",
    "#             print(cc)\n",
    "            print(\"识别可能性：\",cc['result'][0]['score']*100,\"%\")  # 筛选 结果 索引 获取到想要的信息\n",
    "            print(\"识别结果：\",cc['result'][0]['keyword'])\n",
    "            \n",
    "Distinguish()\n"
   ]
  },
  {
   "cell_type": "code",
   "execution_count": null,
   "metadata": {},
   "outputs": [],
   "source": []
  }
 ],
 "metadata": {
  "kernelspec": {
   "display_name": "Python 3",
   "language": "python",
   "name": "python3"
  },
  "language_info": {
   "codemirror_mode": {
    "name": "ipython",
    "version": 3
   },
   "file_extension": ".py",
   "mimetype": "text/x-python",
   "name": "python",
   "nbconvert_exporter": "python",
   "pygments_lexer": "ipython3",
   "version": "3.7.0"
  }
 },
 "nbformat": 4,
 "nbformat_minor": 2
}
